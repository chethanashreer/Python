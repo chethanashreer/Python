{
 "cells": [
  {
   "cell_type": "markdown",
   "id": "3624af91",
   "metadata": {},
   "source": [
    "### Q1:Create the below pattern using nested for loop in Python.\n"
   ]
  },
  {
   "cell_type": "code",
   "execution_count": 7,
   "id": "17827cf6",
   "metadata": {},
   "outputs": [
    {
     "name": "stdout",
     "output_type": "stream",
     "text": [
      "* \r\n",
      "* * \r\n",
      "* * * \r\n",
      "* * * * \r\n",
      "* * * * * \r\n",
      "* * * * \r\n",
      "* * * \r\n",
      "* * \r\n",
      "* \r\n",
      "\r\n"
     ]
    }
   ],
   "source": [
    "row=5\n",
    "for i in range(0,row):\n",
    "    for j in range(0,i+1):\n",
    "        print(\"*\",end=' ')\n",
    "    \n",
    "    print(\"\\r\")\n",
    "        \n",
    "    \n",
    "for i in range(row,0,-1):\n",
    "    for j in range(0,i -1):\n",
    "        print(\"*\",end=' ')\n",
    "        \n",
    "    print(\"\\r\")\n",
    "        \n",
    "   "
   ]
  },
  {
   "cell_type": "markdown",
   "id": "5d26501d",
   "metadata": {},
   "source": [
    "### Q2: Write a Python program to reverse a word after accepting the input from the user."
   ]
  },
  {
   "cell_type": "code",
   "execution_count": 9,
   "id": "b5417fe1",
   "metadata": {},
   "outputs": [
    {
     "name": "stdout",
     "output_type": "stream",
     "text": [
      "The original string is: ineuron\n",
      "The reversed string is: norueni\n"
     ]
    }
   ],
   "source": [
    "B=\"ineuron\"\n",
    "def reverse(B):\n",
    "    str=\"\"\n",
    "    for i in B:\n",
    "        str=i+str\n",
    "    return str\n",
    "\n",
    "\n",
    "print(\"The original string is: \",end=\"\")\n",
    "print(B)\n",
    "\n",
    "print(\"The reversed string is: \", end=\"\")\n",
    "print(reverse(B))"
   ]
  },
  {
   "cell_type": "markdown",
   "id": "ac74aae0",
   "metadata": {},
   "source": [
    "# OR"
   ]
  },
  {
   "cell_type": "code",
   "execution_count": 12,
   "id": "8e6249cb",
   "metadata": {},
   "outputs": [
    {
     "name": "stdout",
     "output_type": "stream",
     "text": [
      "ineuron\n",
      "norueni\n"
     ]
    }
   ],
   "source": [
    "A=\"ineuron\"\n",
    "def ans(A):\n",
    "    str=\" \"\n",
    "    str=A[::-1]\n",
    "        \n",
    "    return str\n",
    "\n",
    "print(A)\n",
    "print(ans(A))"
   ]
  },
  {
   "cell_type": "markdown",
   "id": "6dae1741",
   "metadata": {},
   "source": [
    "- Please confirm which code is correct between above two answers for the 2nd question. "
   ]
  },
  {
   "cell_type": "code",
   "execution_count": null,
   "id": "c94e68ef",
   "metadata": {},
   "outputs": [],
   "source": []
  }
 ],
 "metadata": {
  "kernelspec": {
   "display_name": "Python 3",
   "language": "python",
   "name": "python3"
  },
  "language_info": {
   "codemirror_mode": {
    "name": "ipython",
    "version": 3
   },
   "file_extension": ".py",
   "mimetype": "text/x-python",
   "name": "python",
   "nbconvert_exporter": "python",
   "pygments_lexer": "ipython3",
   "version": "3.8.8"
  }
 },
 "nbformat": 4,
 "nbformat_minor": 5
}
