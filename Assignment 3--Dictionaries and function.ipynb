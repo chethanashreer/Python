{
 "cells": [
  {
   "cell_type": "markdown",
   "id": "9f907396",
   "metadata": {},
   "source": [
    "# Q1.1 1.1 Write a Python Program(with class concepts) to find the area of the triangle using the below\n",
    "\n",
    "#### formula.\n",
    "#### area = (s*(s-a)*(s-b)*(s-c)) ** 0.5\n",
    "#### Function to take the length of the sides of triangle from user should be defined in the parent class and function to calculate the area should be defined in subclass."
   ]
  },
  {
   "cell_type": "code",
   "execution_count": 1,
   "id": "acdddc48",
   "metadata": {},
   "outputs": [
    {
     "name": "stdout",
     "output_type": "stream",
     "text": [
      "a = 20\n",
      "b = 30\n",
      "c = 40\n",
      "area : 290.4737509655563\n"
     ]
    }
   ],
   "source": [
    "class sides:\n",
    "    def __init__(self,a,b,c):\n",
    "        self.a=float(a)\n",
    "        self.b=float(b)\n",
    "        self.c=float(c)\n",
    "        self.area=0\n",
    "\n",
    "        \n",
    "class triangle(sides):\n",
    "    def __init__(self,a,b,c):\n",
    "        sides.__init__(self,a,b,c)\n",
    "    \n",
    "    def area_triangle(self):\n",
    "        s=(self.a+self.b+self.c)/2\n",
    "        self.area=float((s*(s-self.a)*(s-self.b)*(s-self.c))) ** 0.5\n",
    "        return self.area\n",
    "    \n",
    "a, b, c = input(\"a = \"), input(\"b = \"), input(\"c = \")\n",
    "\n",
    "t=triangle(a,b,c)\n",
    "\n",
    "print(\"area : {}\".format(t.area_triangle()))"
   ]
  },
  {
   "cell_type": "markdown",
   "id": "58819dd9",
   "metadata": {},
   "source": [
    "#  Normal function"
   ]
  },
  {
   "cell_type": "code",
   "execution_count": 2,
   "id": "aeedcc3e",
   "metadata": {},
   "outputs": [
    {
     "name": "stdout",
     "output_type": "stream",
     "text": [
      "a= 20\n",
      "b= 30\n",
      "c= 40\n"
     ]
    },
    {
     "data": {
      "text/plain": [
       "290.4737509655563"
      ]
     },
     "execution_count": 2,
     "metadata": {},
     "output_type": "execute_result"
    }
   ],
   "source": [
    "def triangle():\n",
    "    a=float(input(\"a= \"))\n",
    "    b=float(input(\"b= \"))\n",
    "    c=float(input(\"c= \"))\n",
    "    s=(a+b+c)/2\n",
    "    area=(s*(s-a)*(s-b)*(s-c)) ** 0.5\n",
    "    \n",
    "    return area\n",
    "triangle()"
   ]
  },
  {
   "cell_type": "markdown",
   "id": "b03b7575",
   "metadata": {},
   "source": [
    "## Q1.2 1.2 Write a function filter_long_words() that takes a list of words and an integer n and returns the list of words that are longer than n."
   ]
  },
  {
   "cell_type": "code",
   "execution_count": 10,
   "id": "0cd48bb6",
   "metadata": {},
   "outputs": [
    {
     "name": "stdout",
     "output_type": "stream",
     "text": [
      "enter a word: chethana, giri, nainikag\n",
      "enter an int: 4\n"
     ]
    },
    {
     "data": {
      "text/plain": [
       "'chethana,'"
      ]
     },
     "execution_count": 10,
     "metadata": {},
     "output_type": "execute_result"
    }
   ],
   "source": [
    "word=input(\"enter a word: \").split()\n",
    "N=int(input(\"enter an int: \"))\n",
    "\n",
    "\n",
    "def long_words():\n",
    "    for i in word:\n",
    "        if len(i)>N:\n",
    "            return(i)\n",
    "        else:\n",
    "            return \"NO\"\n",
    "            \n",
    "        \n",
    "        \n",
    "long_words()"
   ]
  },
  {
   "cell_type": "markdown",
   "id": "85ec00f7",
   "metadata": {},
   "source": [
    "## Q2.2  Write a Python function which takes a character (i.e. a string of length 1) and returns True if it is a vowel, False otherwise."
   ]
  },
  {
   "cell_type": "code",
   "execution_count": null,
   "id": "e28ee277",
   "metadata": {},
   "outputs": [],
   "source": [
    "A=['a','e','i','o','u']\n",
    "def vowels():\n",
    "    if input(\"enter a letter : \") in A:\n",
    "        return True\n",
    "    else:\n",
    "        return False\n",
    "vowels()"
   ]
  },
  {
   "cell_type": "markdown",
   "id": "3503681d",
   "metadata": {},
   "source": [
    "## Q2.1 Write a Python program using function concept that maps list of words into a list of integersrepresenting the lengths of the corresponding words.\n",
    "\n",
    "### Hint: If a list [ ab,cde,erty] is passed on to the python function output should come as [2,3,4]Here 2,3 and 4 are the lengths of the words in the list."
   ]
  },
  {
   "cell_type": "code",
   "execution_count": null,
   "id": "1d3b1731",
   "metadata": {},
   "outputs": [],
   "source": [
    "A=input(\"enter a list of words: \").split()\n",
    "B=[]\n",
    "\n",
    "def Words():\n",
    "    L=list(map(lambda A: len(A),A))\n",
    "    \n",
    "    print(A)\n",
    "    B.append(L)\n",
    "    return B\n",
    "\n",
    "Words()"
   ]
  },
  {
   "cell_type": "markdown",
   "id": "7a503c30",
   "metadata": {},
   "source": [
    "### OR"
   ]
  },
  {
   "cell_type": "code",
   "execution_count": null,
   "id": "ec7f4c14",
   "metadata": {},
   "outputs": [],
   "source": [
    "G=input(\"list of words: \").split()\n",
    "H=[]\n",
    "\n",
    "def words():\n",
    "    for i in range(len(G)):\n",
    "        H.append(len(G[i]))\n",
    "    return H\n",
    "\n",
    "words()"
   ]
  },
  {
   "cell_type": "code",
   "execution_count": null,
   "id": "9258317f",
   "metadata": {},
   "outputs": [],
   "source": []
  }
 ],
 "metadata": {
  "kernelspec": {
   "display_name": "Python 3",
   "language": "python",
   "name": "python3"
  },
  "language_info": {
   "codemirror_mode": {
    "name": "ipython",
    "version": 3
   },
   "file_extension": ".py",
   "mimetype": "text/x-python",
   "name": "python",
   "nbconvert_exporter": "python",
   "pygments_lexer": "ipython3",
   "version": "3.8.8"
  }
 },
 "nbformat": 4,
 "nbformat_minor": 5
}
