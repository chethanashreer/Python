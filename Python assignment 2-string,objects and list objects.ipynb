{
 "cells": [
  {
   "cell_type": "markdown",
   "id": "492fa970",
   "metadata": {},
   "source": [
    "### Q1:Create the below pattern using nested for loop in Python.\n"
   ]
  },
  {
   "cell_type": "code",
   "execution_count": 7,
   "id": "2513f0ef",
   "metadata": {},
   "outputs": [
    {
     "name": "stdout",
     "output_type": "stream",
     "text": [
      "* \r\n",
      "* * \r\n",
      "* * * \r\n",
      "* * * * \r\n",
      "* * * * * \r\n",
      "* * * * \r\n",
      "* * * \r\n",
      "* * \r\n",
      "* \r\n",
      "\r\n"
     ]
    }
   ],
   "source": [
    "row=5\n",
    "for i in range(0,row):\n",
    "    for j in range(0,i+1):\n",
    "        print(\"*\",end=' ')\n",
    "    \n",
    "    print(\"\\r\")\n",
    "        \n",
    "    \n",
    "for i in range(row,0,-1):\n",
    "    for j in range(0,i -1):\n",
    "        print(\"*\",end=' ')\n",
    "        \n",
    "    print(\"\\r\")\n",
    "        \n",
    "   "
   ]
  },
  {
   "cell_type": "markdown",
   "id": "c77bd070",
   "metadata": {},
   "source": [
    "### Q2: Write a Python program to reverse a word after accepting the input from the user."
   ]
  },
  {
   "cell_type": "code",
   "execution_count": 9,
   "id": "2dc08c64",
   "metadata": {},
   "outputs": [
    {
     "name": "stdout",
     "output_type": "stream",
     "text": [
      "The original string is: ineuron\n",
      "The reversed string is: norueni\n"
     ]
    }
   ],
   "source": [
    "B=\"ineuron\"\n",
    "def reverse(B):\n",
    "    str=\"\"\n",
    "    for i in B:\n",
    "        str=i+str\n",
    "    return str\n",
    "\n",
    "\n",
    "print(\"The original string is: \",end=\"\")\n",
    "print(B)\n",
    "\n",
    "print(\"The reversed string is: \", end=\"\")\n",
    "print(reverse(B))"
   ]
  },
  {
   "cell_type": "code",
   "execution_count": null,
   "id": "85445213",
   "metadata": {},
   "outputs": [],
   "source": []
  }
 ],
 "metadata": {
  "kernelspec": {
   "display_name": "Python 3",
   "language": "python",
   "name": "python3"
  },
  "language_info": {
   "codemirror_mode": {
    "name": "ipython",
    "version": 3
   },
   "file_extension": ".py",
   "mimetype": "text/x-python",
   "name": "python",
   "nbconvert_exporter": "python",
   "pygments_lexer": "ipython3",
   "version": "3.8.8"
  }
 },
 "nbformat": 4,
 "nbformat_minor": 5
}
