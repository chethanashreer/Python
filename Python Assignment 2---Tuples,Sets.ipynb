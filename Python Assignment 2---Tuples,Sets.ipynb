{
 "cells": [
  {
   "cell_type": "markdown",
   "id": "0ae8e6ee",
   "metadata": {},
   "source": [
    "## Q1:Write a Python Program to implement your own myreduce() function which works exactly like Python's built-in function reduce()"
   ]
  },
  {
   "cell_type": "code",
   "execution_count": 1,
   "id": "bbefb12a",
   "metadata": {},
   "outputs": [
    {
     "name": "stdout",
     "output_type": "stream",
     "text": [
      "58\n"
     ]
    }
   ],
   "source": [
    "def myreduce(add,list):\n",
    "    return a\n",
    "def add(a,b):\n",
    "    return a+b\n",
    "list=[2,1,3,50]\n",
    "a=list[0]\n",
    "\n",
    "for i in range(len(list)):\n",
    "    b=list[i]\n",
    "    \n",
    "    a=add(a,b)\n",
    "print(myreduce(add,list))"
   ]
  },
  {
   "cell_type": "code",
   "execution_count": 2,
   "id": "b59127e0",
   "metadata": {},
   "outputs": [
    {
     "name": "stdout",
     "output_type": "stream",
     "text": [
      "yes\n",
      "yes\n",
      "yes\n",
      "yes\n",
      "yes\n",
      "yes\n",
      "yes\n",
      "yes\n",
      "yes\n",
      "yes\n",
      "NO\n",
      "None\n"
     ]
    }
   ],
   "source": [
    "L=[100,2,3,4,56]\n",
    "\n",
    "def myreduce(L):\n",
    "    for i in range(len(L)):\n",
    "        for j in range(len(L)):\n",
    "            if i>j :\n",
    "                \n",
    "                print(\"yes\")\n",
    "\n",
    "    else:\n",
    "            print(\"NO\")\n",
    "            \n",
    "print(myreduce(L))"
   ]
  },
  {
   "cell_type": "markdown",
   "id": "de99c979",
   "metadata": {},
   "source": [
    "## Q2:Write a Python program to implement your own myfilter() function which works exactly like Python's built-in function filter()"
   ]
  },
  {
   "cell_type": "code",
   "execution_count": 31,
   "id": "03d87650",
   "metadata": {},
   "outputs": [],
   "source": [
    "def New_filter(my_filter,sequence):\n",
    "    return f\n",
    "\n",
    "def my_filter(variables):\n",
    "    letters=['a','e','i','o','u']\n",
    "    if variables in letters:\n",
    "        return True\n",
    "    else:\n",
    "        return False\n",
    "def sequence():\n",
    "    sequence =['g','e','i','o','r','a']\n",
    "    for i in sequence:\n",
    "        print(i)\n",
    "    "
   ]
  },
  {
   "cell_type": "markdown",
   "id": "6a311d39",
   "metadata": {},
   "source": [
    "## Q3.a: Implement List comprehensions to produce the following lists.Write List comprehensions to produce the following Lists\n",
    "\n",
    "['x', 'xx', 'xxx', 'xxxx', 'y', 'yy', 'yyy', 'yyyy', 'z', 'zz', 'zzz', 'zzzz']"
   ]
  },
  {
   "cell_type": "code",
   "execution_count": 5,
   "id": "6e00f8e5",
   "metadata": {},
   "outputs": [
    {
     "data": {
      "text/plain": [
       "['x', 'xx', 'xxx', 'xxxx', 'y', 'yy', 'yyy', 'yyyy', 'z', 'zz', 'zzz', 'zzzz']"
      ]
     },
     "execution_count": 5,
     "metadata": {},
     "output_type": "execute_result"
    }
   ],
   "source": [
    "l=('xyz')\n",
    "a=[]\n",
    "[i*j for i in l for j in range(1,5)]"
   ]
  },
  {
   "cell_type": "markdown",
   "id": "1b198446",
   "metadata": {},
   "source": [
    "## Q3.b ['x', 'y', 'z', 'xx', 'yy', 'zz', 'xxx', 'yyy', 'zzz', 'xxxx', 'yyyy', 'zzzz']"
   ]
  },
  {
   "cell_type": "code",
   "execution_count": 6,
   "id": "fb22abf0",
   "metadata": {},
   "outputs": [
    {
     "data": {
      "text/plain": [
       "['x', 'y', 'z', 'xx', 'yy', 'zz', 'xxx', 'yyy', 'zzz', 'xxxx', 'yyyy', 'zzzz']"
      ]
     },
     "execution_count": 6,
     "metadata": {},
     "output_type": "execute_result"
    }
   ],
   "source": [
    "l=['x','y','z']\n",
    "a=[]\n",
    "\n",
    "[i*j for j in range(1,5) for i in l]\n",
    "    \n",
    "    "
   ]
  },
  {
   "cell_type": "markdown",
   "id": "6140049a",
   "metadata": {},
   "source": [
    "## Q3.c [[2], [3], [4], [3], [4], [5], [4], [5], [6]]"
   ]
  },
  {
   "cell_type": "code",
   "execution_count": 7,
   "id": "544e2f0d",
   "metadata": {},
   "outputs": [
    {
     "data": {
      "text/plain": [
       "[[2], [3], [4], [3], [4], [5], [4], [5], [6]]"
      ]
     },
     "execution_count": 7,
     "metadata": {},
     "output_type": "execute_result"
    }
   ],
   "source": [
    "[[i+j] for i in range(2,5) for j in range(3)]"
   ]
  },
  {
   "cell_type": "markdown",
   "id": "f0a7a484",
   "metadata": {},
   "source": [
    "# Q3.d  [[2, 3, 4, 5], [3, 4, 5, 6],[4, 5, 6, 7], [5, 6, 7, 8]]"
   ]
  },
  {
   "cell_type": "code",
   "execution_count": 8,
   "id": "4c5a1ad3",
   "metadata": {},
   "outputs": [
    {
     "data": {
      "text/plain": [
       "[[2, 3, 4, 5], [3, 4, 5, 6], [4, 5, 6, 7], [5, 6, 7, 8]]"
      ]
     },
     "execution_count": 8,
     "metadata": {},
     "output_type": "execute_result"
    }
   ],
   "source": [
    "[[i+j for i in range(2,6)] for j in range(4)]"
   ]
  },
  {
   "cell_type": "markdown",
   "id": "9dc730cb",
   "metadata": {},
   "source": [
    "# Q3.e [(1, 1), (2, 1), (3, 1), (1, 2), (2, 2), (3, 2), (1, 3), (2, 3), (3, 3)]"
   ]
  },
  {
   "cell_type": "code",
   "execution_count": 9,
   "id": "98bea3a2",
   "metadata": {},
   "outputs": [
    {
     "data": {
      "text/plain": [
       "[(1, 1), (1, 2), (1, 3), (2, 1), (2, 2), (2, 3), (3, 1), (3, 2), (3, 3)]"
      ]
     },
     "execution_count": 9,
     "metadata": {},
     "output_type": "execute_result"
    }
   ],
   "source": [
    "s=[]\n",
    "\n",
    "for i in range(1,4):\n",
    "    for j in range(1,4):\n",
    "        s.append((i,j))\n",
    "s"
   ]
  },
  {
   "cell_type": "code",
   "execution_count": null,
   "id": "4092f7ba",
   "metadata": {},
   "outputs": [],
   "source": []
  }
 ],
 "metadata": {
  "kernelspec": {
   "display_name": "Python 3",
   "language": "python",
   "name": "python3"
  },
  "language_info": {
   "codemirror_mode": {
    "name": "ipython",
    "version": 3
   },
   "file_extension": ".py",
   "mimetype": "text/x-python",
   "name": "python",
   "nbconvert_exporter": "python",
   "pygments_lexer": "ipython3",
   "version": "3.8.8"
  }
 },
 "nbformat": 4,
 "nbformat_minor": 5
}
